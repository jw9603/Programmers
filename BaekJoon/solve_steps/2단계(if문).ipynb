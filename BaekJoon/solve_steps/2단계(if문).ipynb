{
 "cells": [
  {
   "cell_type": "code",
   "execution_count": 3,
   "id": "f5cfff90",
   "metadata": {},
   "outputs": [
    {
     "name": "stdout",
     "output_type": "stream",
     "text": [
      "10 2\n",
      ">\n"
     ]
    }
   ],
   "source": [
    "#1\n",
    "a,b = map(int,input().split())\n",
    "if a>b:\n",
    "    print('>')\n",
    "elif a<b:\n",
    "    print('<')\n",
    "else:\n",
    "    print('==')"
   ]
  },
  {
   "cell_type": "code",
   "execution_count": 7,
   "id": "e67b0f1f",
   "metadata": {},
   "outputs": [
    {
     "name": "stdout",
     "output_type": "stream",
     "text": [
      "70\n",
      "C\n"
     ]
    }
   ],
   "source": [
    "#2\n",
    "a = int(input())\n",
    "if a>=90 and a<=100:\n",
    "    print('A')\n",
    "elif a>=80 and a<90:\n",
    "    print('B')\n",
    "elif a>=70 and a<80:\n",
    "    print('C')\n",
    "elif a>=60 and a<70:\n",
    "    print('D')\n",
    "else:\n",
    "    print('F')"
   ]
  },
  {
   "cell_type": "code",
   "execution_count": 9,
   "id": "d46944c6",
   "metadata": {},
   "outputs": [
    {
     "name": "stdout",
     "output_type": "stream",
     "text": [
      "1999\n",
      "0\n"
     ]
    }
   ],
   "source": [
    "#3\n",
    "a = int(input())\n",
    "if a%4==0 and a%100!=0 or a%400==0:\n",
    "    print('1')\n",
    "else:\n",
    "    print('0')"
   ]
  },
  {
   "cell_type": "code",
   "execution_count": 11,
   "id": "e0c3f406",
   "metadata": {},
   "outputs": [
    {
     "name": "stdout",
     "output_type": "stream",
     "text": [
      "7\n",
      "-3\n",
      "4\n"
     ]
    }
   ],
   "source": [
    "#4\n",
    "x = int(input())\n",
    "y = int(input())\n",
    "\n",
    "if x>0 and y>0:\n",
    "    print('1')\n",
    "elif x<0 and y<0:\n",
    "    print('3')\n",
    "elif x>0 and y<0:\n",
    "    print('4')\n",
    "elif x<0 and y>0:\n",
    "    print('2')"
   ]
  },
  {
   "cell_type": "code",
   "execution_count": 8,
   "id": "557c78ee",
   "metadata": {},
   "outputs": [
    {
     "name": "stdout",
     "output_type": "stream",
     "text": [
      "10 10\n",
      "9 25\n"
     ]
    }
   ],
   "source": [
    "#5\n",
    "h,m = map(int,input().split())\n",
    "\n",
    "if m<45:\n",
    "    if h==0:\n",
    "        h+=23\n",
    "        m+=60\n",
    "    else:\n",
    "        h-=1\n",
    "        m+=60\n",
    "print(h,m-45,sep=' ')"
   ]
  }
 ],
 "metadata": {
  "kernelspec": {
   "display_name": "Python 3",
   "language": "python",
   "name": "python3"
  },
  "language_info": {
   "codemirror_mode": {
    "name": "ipython",
    "version": 3
   },
   "file_extension": ".py",
   "mimetype": "text/x-python",
   "name": "python",
   "nbconvert_exporter": "python",
   "pygments_lexer": "ipython3",
   "version": "3.8.8"
  }
 },
 "nbformat": 4,
 "nbformat_minor": 5
}
