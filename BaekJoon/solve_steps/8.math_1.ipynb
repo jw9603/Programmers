{
 "cells": [
  {
   "cell_type": "code",
   "execution_count": 5,
   "id": "8363a41b",
   "metadata": {},
   "outputs": [
    {
     "name": "stdout",
     "output_type": "stream",
     "text": [
      "1000 70 170\n",
      "11\n"
     ]
    }
   ],
   "source": [
    "#1\n",
    "a,b,c = map(int,input().split())\n",
    "\n",
    "if b-c >=0:\n",
    "    print('-1')\n",
    "else:\n",
    "    n = a/(c-b)\n",
    "    n+=1\n",
    "    print(int(n))"
   ]
  },
  {
   "cell_type": "code",
   "execution_count": 9,
   "id": "9e94b3a6",
   "metadata": {},
   "outputs": [
    {
     "name": "stdout",
     "output_type": "stream",
     "text": [
      "13\n",
      "3\n"
     ]
    }
   ],
   "source": [
    "#2\n",
    "N=int(input())\n",
    "bee_house=1\n",
    "cnt=1\n",
    "while N>bee_house:\n",
    "    bee_house+=6*cnt\n",
    "    cnt+=1\n",
    "print(cnt)"
   ]
  },
  {
   "cell_type": "code",
   "execution_count": null,
   "id": "360cc1e2",
   "metadata": {},
   "outputs": [],
   "source": [
    "#3\n",
    "x = int(input())\n",
    "line=1\n",
    "\n",
    "while x>line:\n",
    "    x-= line\n",
    "    line+=1\n",
    "\n",
    "if line %2 ==0:\n",
    "    a=x\n",
    "    b = line-x+1\n",
    "else:\n",
    "    a=line-x+1\n",
    "    b=x\n",
    "\n",
    "print(a,'/',b,sep='')\n",
    "    "
   ]
  },
  {
   "cell_type": "code",
   "execution_count": 1,
   "id": "a6883e0b",
   "metadata": {},
   "outputs": [
    {
     "name": "stdout",
     "output_type": "stream",
     "text": [
      "2 1 5\n",
      "4\n"
     ]
    }
   ],
   "source": [
    "#4\n",
    "a,b,v = map(int,input().split())\n",
    "\n",
    "sol = (v-b)/(a-b)\n",
    "print(int(sol) if sol ==int(sol) else int(sol)+1 )"
   ]
  },
  {
   "cell_type": "code",
   "execution_count": 4,
   "id": "80edd156",
   "metadata": {},
   "outputs": [
    {
     "name": "stdout",
     "output_type": "stream",
     "text": [
      "2\n",
      "6 12 10\n",
      "402\n",
      "30 50 72\n",
      "1203\n"
     ]
    }
   ],
   "source": [
    "#5\n",
    "t = int(input())\n",
    "for _ in range(t):\n",
    "    h,w,n = map(int,input().split())\n",
    "    num = n//h+1#호수뒷자리\n",
    "    floor = n%h\n",
    "    if n%h==0:\n",
    "        num = n//h\n",
    "        floor = h\n",
    "    print(floor*100+num)"
   ]
  },
  {
   "cell_type": "code",
   "execution_count": 8,
   "id": "8d5019ff",
   "metadata": {},
   "outputs": [
    {
     "name": "stdout",
     "output_type": "stream",
     "text": [
      "2\n",
      "1\n",
      "3\n",
      "6\n",
      "2\n",
      "3\n",
      "10\n"
     ]
    }
   ],
   "source": [
    "#6\n",
    "T = int(input())\n",
    "for _ in range(T):\n",
    "    floor = int(input())\n",
    "    hosu = int(input())\n",
    "    f0=[x for x in range(1,hosu+1)]\n",
    "    for _ in range(floor):\n",
    "        for j in range(1,hosu):\n",
    "            f0[j]+=f0[j-1]\n",
    "    print(f0[-1])"
   ]
  },
  {
   "cell_type": "code",
   "execution_count": 28,
   "id": "94bcd6d4",
   "metadata": {},
   "outputs": [
    {
     "name": "stdout",
     "output_type": "stream",
     "text": [
      "11\n",
      "3\n"
     ]
    }
   ],
   "source": [
    "#7\n",
    "kg = int(input())\n",
    "cnt=0\n",
    "while kg>=0:\n",
    "    if kg%5==0:\n",
    "        cnt+=(kg//5)\n",
    "        print(cnt)\n",
    "        break\n",
    "    kg-=3\n",
    "    cnt+=1\n",
    "else:\n",
    "    print('-1')\n",
    "        \n",
    "        \n",
    "    "
   ]
  },
  {
   "cell_type": "code",
   "execution_count": 29,
   "id": "5e114488",
   "metadata": {},
   "outputs": [
    {
     "ename": "ValueError",
     "evalue": "not enough values to unpack (expected 2, got 0)",
     "output_type": "error",
     "traceback": [
      "\u001b[0;31m---------------------------------------------------------------------------\u001b[0m",
      "\u001b[0;31mValueError\u001b[0m                                Traceback (most recent call last)",
      "\u001b[0;32m<ipython-input-29-1da9cd118cca>\u001b[0m in \u001b[0;36m<module>\u001b[0;34m\u001b[0m\n\u001b[1;32m      1\u001b[0m \u001b[0;31m#8\u001b[0m\u001b[0;34m\u001b[0m\u001b[0;34m\u001b[0m\u001b[0;34m\u001b[0m\u001b[0m\n\u001b[1;32m      2\u001b[0m \u001b[0;32mimport\u001b[0m \u001b[0msys\u001b[0m\u001b[0;34m\u001b[0m\u001b[0;34m\u001b[0m\u001b[0m\n\u001b[0;32m----> 3\u001b[0;31m \u001b[0ma\u001b[0m\u001b[0;34m,\u001b[0m\u001b[0mb\u001b[0m \u001b[0;34m=\u001b[0m \u001b[0mmap\u001b[0m\u001b[0;34m(\u001b[0m\u001b[0mint\u001b[0m\u001b[0;34m,\u001b[0m\u001b[0msys\u001b[0m\u001b[0;34m.\u001b[0m\u001b[0mstdin\u001b[0m\u001b[0;34m.\u001b[0m\u001b[0mreadline\u001b[0m\u001b[0;34m(\u001b[0m\u001b[0;34m)\u001b[0m\u001b[0;34m.\u001b[0m\u001b[0mrstrip\u001b[0m\u001b[0;34m(\u001b[0m\u001b[0;34m)\u001b[0m\u001b[0;34m.\u001b[0m\u001b[0msplit\u001b[0m\u001b[0;34m(\u001b[0m\u001b[0;34m)\u001b[0m\u001b[0;34m)\u001b[0m\u001b[0;34m\u001b[0m\u001b[0;34m\u001b[0m\u001b[0m\n\u001b[0m\u001b[1;32m      4\u001b[0m \u001b[0mprint\u001b[0m\u001b[0;34m(\u001b[0m\u001b[0ma\u001b[0m\u001b[0;34m+\u001b[0m\u001b[0mb\u001b[0m\u001b[0;34m)\u001b[0m\u001b[0;34m\u001b[0m\u001b[0;34m\u001b[0m\u001b[0m\n",
      "\u001b[0;31mValueError\u001b[0m: not enough values to unpack (expected 2, got 0)"
     ]
    }
   ],
   "source": [
    "#8\n",
    "import sys\n",
    "a,b = map(int,sys.stdin.readline().rstrip().split())\n",
    "print(a+b)"
   ]
  },
  {
   "cell_type": "code",
   "execution_count": null,
   "id": "95c913ee",
   "metadata": {},
   "outputs": [],
   "source": [
    "#9\n",
    "T = int(input())\n",
    "for i in range(T):\n",
    "    x,y = map(int,input().split())\n",
    "    d = y-x\n",
    "    cnt=0#반복횟수\n",
    "    \n",
    "    while True:\n",
    "        if d<= cnt*(cnt+1):\n",
    "            break\n",
    "        cnt+=1\n",
    "    if d <= cnt**2:\n",
    "        print(cnt*2-1)\n",
    "    else:\n",
    "        print(cnt*2)"
   ]
  }
 ],
 "metadata": {
  "kernelspec": {
   "display_name": "Python 3",
   "language": "python",
   "name": "python3"
  },
  "language_info": {
   "codemirror_mode": {
    "name": "ipython",
    "version": 3
   },
   "file_extension": ".py",
   "mimetype": "text/x-python",
   "name": "python",
   "nbconvert_exporter": "python",
   "pygments_lexer": "ipython3",
   "version": "3.8.8"
  }
 },
 "nbformat": 4,
 "nbformat_minor": 5
}
