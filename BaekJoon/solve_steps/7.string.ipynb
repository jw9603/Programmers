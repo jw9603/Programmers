{
 "cells": [
  {
   "cell_type": "code",
   "execution_count": 2,
   "id": "52a97a8f",
   "metadata": {},
   "outputs": [
    {
     "name": "stdout",
     "output_type": "stream",
     "text": [
      "C\n",
      "67\n"
     ]
    }
   ],
   "source": [
    "#1\n",
    "a = input()\n",
    "print(ord(a))"
   ]
  },
  {
   "cell_type": "code",
   "execution_count": 1,
   "id": "a27f0bfe",
   "metadata": {},
   "outputs": [
    {
     "name": "stdout",
     "output_type": "stream",
     "text": [
      "5\n",
      "12345\n",
      "15\n"
     ]
    }
   ],
   "source": [
    "#2\n",
    "n = input()\n",
    "print(sum(map(int,input())))"
   ]
  },
  {
   "cell_type": "code",
   "execution_count": 1,
   "id": "69942fc9",
   "metadata": {},
   "outputs": [
    {
     "name": "stdout",
     "output_type": "stream",
     "text": [
      "baekjoon\n",
      "1 0 -1 -1 2 -1 -1 -1 -1 4 3 -1 -1 7 5 -1 -1 -1 -1 -1 -1 -1 -1 -1 -1 -1 "
     ]
    }
   ],
   "source": [
    "#3\n",
    "n = input()\n",
    "alphabet = list(range(97,123))\n",
    "\n",
    "for x in alphabet:\n",
    "    print(n.find(chr(x)),end=' ')\n",
    "#find 함수는 어떤 찾는 문자가 문자열 안에서 첫번째에 위치한 순서를 숫자로 출력한다. 만일 찾는 문자가 문자열 안에 없는 경우에는\n",
    "# -1을 출력하는 함수\n",
    "#문자 -> 숫자(아스키코드) : ord()\n",
    "#숫자(아스키코드) -> 문자 : chr()\n"
   ]
  },
  {
   "cell_type": "code",
   "execution_count": 56,
   "id": "6fbc3ad6",
   "metadata": {},
   "outputs": [
    {
     "name": "stdout",
     "output_type": "stream",
     "text": [
      "2\n",
      "3 ABC\n",
      "AAABBBCCC\n",
      "5 /HTP\n",
      "/////HHHHHTTTTTPPPPP\n"
     ]
    }
   ],
   "source": [
    "#4\n",
    "T = int(input())\n",
    "for _ in range(T):\n",
    "    num,s = input().split()\n",
    "    text=''\n",
    "    for j in s:\n",
    "        text+=int(num)*j\n",
    "    print(text)"
   ]
  },
  {
   "cell_type": "code",
   "execution_count": 7,
   "id": "46700b04",
   "metadata": {},
   "outputs": [
    {
     "name": "stdout",
     "output_type": "stream",
     "text": [
      "Mississipi\n",
      "?\n"
     ]
    }
   ],
   "source": [
    "#5\n",
    "s = input().upper()\n",
    "list_a = list(set(s))\n",
    "cnt = [s.count(i) for i in list_a]\n",
    "\n",
    "if cnt.count(max(cnt))>1:\n",
    "    print('?')\n",
    "else:\n",
    "    print(list_a[cnt.index(max(cnt))])"
   ]
  },
  {
   "cell_type": "code",
   "execution_count": 11,
   "id": "e387382b",
   "metadata": {},
   "outputs": [
    {
     "name": "stdout",
     "output_type": "stream",
     "text": [
      "The last character is a bank\n",
      "6\n"
     ]
    }
   ],
   "source": [
    "#6\n",
    "n = list(input().split())\n",
    "print(len(n))"
   ]
  },
  {
   "cell_type": "code",
   "execution_count": 38,
   "id": "ac8bf5fe",
   "metadata": {},
   "outputs": [
    {
     "name": "stdout",
     "output_type": "stream",
     "text": [
      "734 893\n",
      "437\n"
     ]
    }
   ],
   "source": [
    "#7\n",
    "a,b = input().split()\n",
    "\n",
    "\n",
    "a = int(a[::-1])\n",
    "b = int(b[::-1])\n",
    "\n",
    "if a>b:\n",
    "    print(a)\n",
    "else:\n",
    "    print(b)\n",
    "\n",
    "\n"
   ]
  },
  {
   "cell_type": "code",
   "execution_count": 40,
   "id": "f4d880e3",
   "metadata": {},
   "outputs": [
    {
     "name": "stdout",
     "output_type": "stream",
     "text": [
      "65\n",
      "90\n"
     ]
    }
   ],
   "source": [
    "print(ord('A'))\n",
    "print(ord('Z'))"
   ]
  },
  {
   "cell_type": "code",
   "execution_count": 47,
   "id": "5e0f8a1a",
   "metadata": {},
   "outputs": [
    {
     "name": "stdout",
     "output_type": "stream",
     "text": [
      "WA\n",
      "13\n"
     ]
    }
   ],
   "source": [
    "#8\n",
    "word = input()\n",
    "a = ['ABC','DEF','GHI','JKL','MNO','PQRS','TUV','WXYZ']\n",
    "time=0\n",
    "for i in a:\n",
    "    for j in i:\n",
    "        for k in word:\n",
    "            if k == j:\n",
    "                time+=a.index(i)+3\n",
    "print(time)"
   ]
  },
  {
   "cell_type": "code",
   "execution_count": 51,
   "id": "23b6dbd0",
   "metadata": {},
   "outputs": [
    {
     "name": "stdout",
     "output_type": "stream",
     "text": [
      "ddz=z=\n",
      "3\n"
     ]
    }
   ],
   "source": [
    "#9\n",
    "n = input()\n",
    "kro=['c=','c-','dz=','d-','lj','nj','s=','z=']\n",
    "for i in kro:\n",
    "    n = n.replace(i,'#')\n",
    "print(len(n))"
   ]
  },
  {
   "cell_type": "code",
   "execution_count": 66,
   "id": "77d0efe0",
   "metadata": {},
   "outputs": [
    {
     "name": "stdout",
     "output_type": "stream",
     "text": [
      "3\n",
      "happy\n",
      "new\n",
      "year\n",
      "3\n"
     ]
    }
   ],
   "source": [
    "#10\n",
    "N = int(input())\n",
    "group_word=0\n",
    "for _ in range(N):\n",
    "    word=input()\n",
    "    error=0\n",
    "    for j in range(len(word)-1):\n",
    "        if word[j]!=word[j+1]:\n",
    "            new_word=word[j+1:]\n",
    "            if new_word.count(word[j])>0:\n",
    "                error+=1\n",
    "    if error == 0:\n",
    "        group_word+=1\n",
    "print(group_word)\n",
    "                "
   ]
  }
 ],
 "metadata": {
  "kernelspec": {
   "display_name": "Python 3",
   "language": "python",
   "name": "python3"
  },
  "language_info": {
   "codemirror_mode": {
    "name": "ipython",
    "version": 3
   },
   "file_extension": ".py",
   "mimetype": "text/x-python",
   "name": "python",
   "nbconvert_exporter": "python",
   "pygments_lexer": "ipython3",
   "version": "3.8.8"
  }
 },
 "nbformat": 4,
 "nbformat_minor": 5
}
