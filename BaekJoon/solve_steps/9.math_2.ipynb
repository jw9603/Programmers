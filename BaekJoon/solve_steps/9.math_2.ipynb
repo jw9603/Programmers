{
 "cells": [
  {
   "cell_type": "code",
   "execution_count": null,
   "id": "2e61809c",
   "metadata": {},
   "outputs": [],
   "source": [
    "#1. 주어진 수 N개 중에서 소수가 몇 개인지 찾아서 출력하는 프로그램을 작성하시오.\n",
    "#소수란? 1보다 큰 자연수 중 1과 자기 자신만을 약수로 가지는  수\n",
    "n= int(input())\n",
    "\n",
    "a = map(int,input().split())\n",
    "cnt=0\n",
    "for num in a:#num : 1 3 5 7\n",
    "    error=0\n",
    "    if num >1:#3\n",
    "        for i in range(2,num):\n",
    "            if num%i==0:\n",
    "                error+=1\n",
    "        if error==0:\n",
    "            cnt+=1\n",
    "print(cnt)\n",
    "                "
   ]
  },
  {
   "cell_type": "code",
   "execution_count": null,
   "id": "f8b72e25",
   "metadata": {},
   "outputs": [],
   "source": [
    "#2\n",
    "M = int(input())\n",
    "N= int(input())\n",
    "a=[]\n",
    "for num in range(M,N+1):\n",
    "    error=0\n",
    "    if num>1:\n",
    "        for j in range(2,num):\n",
    "            if num%j==0:\n",
    "                error+=1\n",
    "                break\n",
    "        if error==0:\n",
    "            a.append(num)\n",
    "if len(a)>0:\n",
    "    print(sum(a))\n",
    "    print(min(a))\n",
    "else:\n",
    "    print('-1')"
   ]
  },
  {
   "cell_type": "code",
   "execution_count": 1,
   "id": "5ff6ad02",
   "metadata": {},
   "outputs": [
    {
     "name": "stdout",
     "output_type": "stream",
     "text": [
      "72\n",
      "2\n",
      "2\n",
      "2\n",
      "3\n",
      "3\n"
     ]
    }
   ],
   "source": [
    "#3. 정수 N이 주어졌을 때, 소인수분해하는 프로그램을 작성하시오.\n",
    "\n",
    "N = int(input())\n",
    "i=2\n",
    "while N!=1:\n",
    "    if N%i==0:\n",
    "        N/=i\n",
    "        print(i)\n",
    "    else:\n",
    "        i+=1\n",
    "\n",
    "    \n",
    "        "
   ]
  },
  {
   "cell_type": "code",
   "execution_count": 5,
   "id": "605c2aa0",
   "metadata": {},
   "outputs": [
    {
     "name": "stdout",
     "output_type": "stream",
     "text": [
      "3 16\n",
      "3\n",
      "5\n",
      "7\n",
      "11\n",
      "13\n"
     ]
    }
   ],
   "source": [
    "#4.M이상 N이하의 소수를 모두 출력하는 프로그램을 작성하시오.\n",
    "M,N = map(int,input().split())\n",
    "\n",
    "def isPrime(num):\n",
    "    if num==1:\n",
    "        return False\n",
    "    else:\n",
    "        for i in range(2,int(num**0.5)+1):\n",
    "            if num%i==0:\n",
    "                return False\n",
    "        return True\n",
    "\n",
    "for i in range(M,N+1):\n",
    "    if isPrime(i):\n",
    "        print(i)"
   ]
  },
  {
   "cell_type": "code",
   "execution_count": 2,
   "id": "e210faad",
   "metadata": {},
   "outputs": [
    {
     "name": "stdout",
     "output_type": "stream",
     "text": [
      "1\n",
      "1\n",
      "10\n",
      "4\n",
      "0\n"
     ]
    }
   ],
   "source": [
    "#5\n",
    "def isPrime(num):\n",
    "    if num==1:\n",
    "        return False\n",
    "    else:\n",
    "        for i in range(2,int(num**0.5)+1):\n",
    "            if num%i==0:\n",
    "                return False\n",
    "        return True\n",
    "\n",
    "list_a = list(range(2,246912))\n",
    "memo=[]\n",
    "for i in list_a:\n",
    "    if isPrime(i):\n",
    "        memo.append(i)\n",
    "n = int(input())\n",
    "while True:\n",
    "    cnt=0\n",
    "    if n==0:\n",
    "        break\n",
    "    for i in memo:\n",
    "        if n<i and i<=2*n:\n",
    "            cnt+=1\n",
    "    print(cnt)\n",
    "    n = int(input())"
   ]
  },
  {
   "cell_type": "code",
   "execution_count": 6,
   "id": "ca61c283",
   "metadata": {},
   "outputs": [
    {
     "name": "stdout",
     "output_type": "stream",
     "text": [
      "3\n",
      "8\n",
      "3 5\n",
      "10\n",
      "5 5\n",
      "16\n",
      "5 11\n"
     ]
    }
   ],
   "source": [
    "#6\n",
    "\n",
    "def isPrime(num):\n",
    "    if num==1:\n",
    "        return False\n",
    "    else:\n",
    "        for i in range(2,int(num**0.5)+1):\n",
    "            if num%i==0:\n",
    "                return False\n",
    "        return True\n",
    "T = int(input())\n",
    "a=[]\n",
    "sol=[]\n",
    "for _ in range(T):\n",
    "    n = int(input())\n",
    "    for i in range(n//2,0,-1):\n",
    "        if isPrime(i) and isPrime(n-i):\n",
    "            print(i,n-i)\n",
    "            break\n",
    "        \n",
    "    \n",
    "        "
   ]
  },
  {
   "cell_type": "code",
   "execution_count": 9,
   "id": "c1c8cfc8",
   "metadata": {},
   "outputs": [
    {
     "name": "stdout",
     "output_type": "stream",
     "text": [
      "653 375 1000 1000\n",
      "347\n"
     ]
    }
   ],
   "source": [
    "#7\n",
    "x,y,w,h = map(int,input().split())\n",
    "print(min(x,y,w-x,h-y))"
   ]
  },
  {
   "cell_type": "code",
   "execution_count": 12,
   "id": "2940165c",
   "metadata": {},
   "outputs": [
    {
     "name": "stdout",
     "output_type": "stream",
     "text": [
      "5 5\n",
      "5 7\n",
      "7 5\n",
      "7 7\n"
     ]
    }
   ],
   "source": [
    "#8\n",
    "x_list=[]\n",
    "y_list=[]\n",
    "for _ in range(3):\n",
    "    x,y=map(int,input().split())\n",
    "    x_list.append(x)\n",
    "    y_list.append(y)\n",
    "for i in range(3):\n",
    "    if x_list.count(x_list[i])==1:\n",
    "        x = x_list[i]\n",
    "    if y_list.count(y_list[i])==1:\n",
    "        y = y_list[i]\n",
    "print(x,y)"
   ]
  },
  {
   "cell_type": "code",
   "execution_count": 6,
   "id": "8d9828a6",
   "metadata": {},
   "outputs": [
    {
     "name": "stdout",
     "output_type": "stream",
     "text": [
      "6 8 10\n",
      "right\n",
      "25 52 60\n",
      "wrong\n",
      "5 12 13\n",
      "right\n",
      "0 0 0\n"
     ]
    }
   ],
   "source": [
    "#9\n",
    "while True:\n",
    "    a = list(map(int,input().split()))\n",
    "    max_num = max(a)\n",
    "    if sum(a)==0:\n",
    "        break\n",
    "    a.remove(max_num)\n",
    "    if a[0]**2+a[1]**2 == max_num**2:\n",
    "        print('right')\n",
    "    else:\n",
    "        print('wrong')"
   ]
  },
  {
   "cell_type": "code",
   "execution_count": 14,
   "id": "dbe991d4",
   "metadata": {},
   "outputs": [
    {
     "name": "stdout",
     "output_type": "stream",
     "text": [
      "42\n",
      "5541.769441\n",
      "3528.000000\n"
     ]
    }
   ],
   "source": [
    "#10\n",
    "import math\n",
    "\n",
    "R = int(input())\n",
    "\n",
    "euclid = math.pi*R**2\n",
    "taxi = 2*R*R\n",
    "print('{:.6f}'.format(euclid))\n",
    "print('{:.6f}'.format(taxi))"
   ]
  },
  {
   "cell_type": "code",
   "execution_count": 15,
   "id": "f9cf6ec6",
   "metadata": {},
   "outputs": [
    {
     "name": "stdout",
     "output_type": "stream",
     "text": [
      "3\n",
      "0 0 13 40 0 37\n",
      "2\n",
      "0 0 3 0 7 4\n",
      "1\n",
      "1 1 1 1 1 5\n",
      "0\n"
     ]
    }
   ],
   "source": [
    "#11\n",
    "import math\n",
    "\n",
    "n = int(input())\n",
    "for _ in range(n):\n",
    "    x1,y1,r1,x2,y2,r2 = map(int,input().split())\n",
    "    distance = math.sqrt((x1-x2)**2+(y1-y2)**2)\n",
    "    if distance==0 and r1==r2:\n",
    "        print('-1')\n",
    "    elif abs(r1-r2)== distance or r1+r2 == distance:\n",
    "        print('1')\n",
    "    elif abs(r1-r2)<distance and distance<(r1+r2):\n",
    "        print('2')\n",
    "    else:\n",
    "        print('0')"
   ]
  }
 ],
 "metadata": {
  "kernelspec": {
   "display_name": "Python 3",
   "language": "python",
   "name": "python3"
  },
  "language_info": {
   "codemirror_mode": {
    "name": "ipython",
    "version": 3
   },
   "file_extension": ".py",
   "mimetype": "text/x-python",
   "name": "python",
   "nbconvert_exporter": "python",
   "pygments_lexer": "ipython3",
   "version": "3.8.8"
  }
 },
 "nbformat": 4,
 "nbformat_minor": 5
}
