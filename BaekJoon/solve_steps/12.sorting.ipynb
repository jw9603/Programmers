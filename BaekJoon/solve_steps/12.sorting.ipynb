{
 "cells": [
  {
   "cell_type": "code",
   "execution_count": 1,
   "id": "3ca6bb9f",
   "metadata": {},
   "outputs": [
    {
     "name": "stdout",
     "output_type": "stream",
     "text": [
      "5\n",
      "5\n",
      "2\n",
      "3\n",
      "4\n",
      "1\n",
      "1\n",
      "2\n",
      "3\n",
      "4\n",
      "5\n"
     ]
    }
   ],
   "source": [
    "#1. bubblesort\n",
    "N = int(input())\n",
    "list_a=[]\n",
    "for _ in range(N):\n",
    "    list_a.append(int(input()))\n",
    "\n",
    "for index in range(len(list_a)-1):\n",
    "    swap=False\n",
    "    for index2 in range(len(list_a)-index-1):\n",
    "        if list_a[index2]>list_a[index2+1]:\n",
    "            swap=True\n",
    "            list_a[index2],list_a[index2+1] = list_a[index2+1],list_a[index2]\n",
    "    if swap==False:\n",
    "        break\n",
    "for i in list_a:\n",
    "    print(i)\n",
    "    "
   ]
  },
  {
   "cell_type": "code",
   "execution_count": 2,
   "id": "261f4403",
   "metadata": {},
   "outputs": [
    {
     "name": "stdout",
     "output_type": "stream",
     "text": [
      "5\n",
      "5\n",
      "2\n",
      "3\n",
      "4\n",
      "1\n",
      "1\n",
      "2\n",
      "3\n",
      "4\n",
      "5\n"
     ]
    }
   ],
   "source": [
    "#1.selectionsort\n",
    "\n",
    "N = int(input())\n",
    "data=[]\n",
    "\n",
    "for _ in range(N):\n",
    "    data.append(int(input()))\n",
    "\n",
    "for stand in range(len(data)-1):\n",
    "    lowest = stand\n",
    "    for index in range(stand+1,len(data)):\n",
    "        if data[lowest]>data[index]:\n",
    "            lowest=index\n",
    "    data[lowest],data[stand] = data[stand],data[lowest]\n",
    "\n",
    "for i in data:\n",
    "    print(i)"
   ]
  },
  {
   "cell_type": "code",
   "execution_count": 4,
   "id": "8889b724",
   "metadata": {},
   "outputs": [
    {
     "name": "stdout",
     "output_type": "stream",
     "text": [
      "5\n",
      "5\n",
      "2\n",
      "3\n",
      "4\n",
      "1\n",
      "1\n",
      "2\n",
      "3\n",
      "4\n",
      "5\n"
     ]
    }
   ],
   "source": [
    "#insertionsort\n",
    "\n",
    "N = int(input())\n",
    "data=[]\n",
    "for _ in range(N):\n",
    "    data.append(int(input()))\n",
    "\n",
    "for index in range(len(data)-1):\n",
    "    for index2 in range(index+1,0,-1):\n",
    "        if data[index2]<data[index2-1]:\n",
    "            data[index2],data[index2-1] = data[index2-1],data[index2]\n",
    "        else:\n",
    "            break\n",
    "\n",
    "for i in data:\n",
    "    print(i)"
   ]
  },
  {
   "cell_type": "code",
   "execution_count": 1,
   "id": "434b1c78",
   "metadata": {},
   "outputs": [
    {
     "name": "stdout",
     "output_type": "stream",
     "text": [
      "5\n",
      "5\n",
      "4\n",
      "3\n",
      "2\n",
      "1\n",
      "1\n",
      "2\n",
      "3\n",
      "4\n",
      "5\n"
     ]
    }
   ],
   "source": [
    "#2\n",
    "N = int(input())\n",
    "list_a=[]\n",
    "for _ in range(N):\n",
    "    a = int(input())\n",
    "    list_a.append(a)\n",
    "\n",
    "for i in sorted(list_a):\n",
    "    print(i)"
   ]
  },
  {
   "cell_type": "code",
   "execution_count": 13,
   "id": "3aa68c38",
   "metadata": {},
   "outputs": [
    {
     "name": "stdout",
     "output_type": "stream",
     "text": [
      "5\n",
      "5\n",
      "4\n",
      "3\n",
      "2\n",
      "1\n",
      "1\n",
      "2\n",
      "3\n",
      "4\n",
      "5\n"
     ]
    }
   ],
   "source": [
    "#2. quick_sort\n",
    "def qsort(data):\n",
    "    if len(data)<=1:\n",
    "        return data\n",
    "    \n",
    "    left,right = list(),list()\n",
    "    pivot = data[0]\n",
    "\n",
    "    for index in range(1,len(data)):\n",
    "        if pivot > data[index]:\n",
    "            left.append(data[index])\n",
    "        else:\n",
    "            right.append(data[index])\n",
    "    \n",
    "    return qsort(left)+[pivot] + qsort(right)\n",
    "\n",
    "n = int(input())\n",
    "num = []\n",
    "\n",
    "for _ in range(n):\n",
    "    num.append(int(input()))\n",
    "num = qsort(num)\n",
    "for i in num:\n",
    "    print(i)"
   ]
  },
  {
   "cell_type": "code",
   "execution_count": 15,
   "id": "2890f893",
   "metadata": {},
   "outputs": [
    {
     "name": "stdout",
     "output_type": "stream",
     "text": [
      "5\n",
      "5\n",
      "4\n",
      "3\n",
      "2\n",
      "1\n",
      "1\n",
      "2\n",
      "3\n",
      "4\n",
      "5\n"
     ]
    }
   ],
   "source": [
    "#2. mergesort\n",
    "def merge_sort(data):\n",
    "    if len(data)<=1:\n",
    "        return data\n",
    "    mid = len(data)//2\n",
    "\n",
    "    #left는 data리스트의 인덱스 0부터 mid전까지\n",
    "    left = merge_sort(data[:mid])\n",
    "    right = merge_sort(data[mid:])\n",
    "    \n",
    "    i,j=0,0\n",
    "    arr=[]\n",
    "    \n",
    "    while i < len(left) and j < len(right):\n",
    "        if left[i]<right[j]:\n",
    "            arr.append(left[i])\n",
    "            i+=1\n",
    "        else:\n",
    "            arr.append(right[j])\n",
    "            j+=1\n",
    "    arr+=left[i:]\n",
    "    arr+=right[j:]\n",
    "    return arr\n",
    "\n",
    "N = int(input())\n",
    "arr=[]\n",
    "for _ in range(N):\n",
    "    arr.append(int(input()))\n",
    "arr = merge_sort(arr)\n",
    "for i in arr:\n",
    "    print(i)"
   ]
  },
  {
   "cell_type": "code",
   "execution_count": null,
   "id": "0490327d",
   "metadata": {},
   "outputs": [],
   "source": [
    "#3\n",
    "import sys\n",
    "N = int(input())\n",
    "check_list = [0] * 10001\n",
    "\n",
    "for i in range(N):\n",
    "    input_num = int(sys.stdin.readline())\n",
    "    \n",
    "    check_list[input_num] +=1\n",
    "for i in range(10001):\n",
    "    if check_list[i]!=0:\n",
    "        for j in range(check_list[i]):\n",
    "            print(i)"
   ]
  },
  {
   "cell_type": "code",
   "execution_count": null,
   "id": "953c3b1f",
   "metadata": {},
   "outputs": [],
   "source": [
    "#4.\n",
    "from collections import Counter\n",
    "import sys\n",
    "numbers = []\n",
    "for _ in range(int(input())):\n",
    "    num = int(sys.stdin.readline())\n",
    "    numbers.append(num)\n",
    "\n",
    "numbers.sort()\n",
    "\n",
    "cnt = Counter(numbers).most_common(2)\n",
    "\n",
    "print(round(sum(numbers) / len(numbers)))#산술평균\n",
    "print(numbers[len(numbers) // 2])#중앙값\n",
    "if len(numbers) > 1:\n",
    "    if cnt[0][1] == cnt[1][1]:#딕셔너리 형태로 첫번째 원소는 값,두번째 원소는 나오는 횟수\n",
    "        print(cnt[1][0])\n",
    "    else:\n",
    "        print(cnt[0][0])\n",
    "else:\n",
    "    print(cnt[0][0])\n",
    "print(max(numbers) - min(numbers))#범위\n",
    "\n"
   ]
  },
  {
   "cell_type": "code",
   "execution_count": 10,
   "id": "94b55053",
   "metadata": {},
   "outputs": [
    {
     "name": "stdout",
     "output_type": "stream",
     "text": [
      "2143\n",
      "4321"
     ]
    }
   ],
   "source": [
    "#5\n",
    "N = input()\n",
    "N = [int(n) for n in N]\n",
    "ordered=sorted(N,reverse=True)\n",
    "for i in ordered:\n",
    "    print(i,end='')"
   ]
  },
  {
   "cell_type": "code",
   "execution_count": 11,
   "id": "7850a935",
   "metadata": {},
   "outputs": [
    {
     "ename": "ValueError",
     "evalue": "invalid literal for int() with base 10: ''",
     "output_type": "error",
     "traceback": [
      "\u001b[0;31m---------------------------------------------------------------------------\u001b[0m",
      "\u001b[0;31mValueError\u001b[0m                                Traceback (most recent call last)",
      "\u001b[0;32m<ipython-input-11-6fd7d4dcfe3e>\u001b[0m in \u001b[0;36m<module>\u001b[0;34m\u001b[0m\n\u001b[1;32m      1\u001b[0m \u001b[0;31m#6\u001b[0m\u001b[0;34m\u001b[0m\u001b[0;34m\u001b[0m\u001b[0;34m\u001b[0m\u001b[0m\n\u001b[1;32m      2\u001b[0m \u001b[0;32mimport\u001b[0m \u001b[0msys\u001b[0m\u001b[0;34m\u001b[0m\u001b[0;34m\u001b[0m\u001b[0m\n\u001b[0;32m----> 3\u001b[0;31m \u001b[0mN\u001b[0m \u001b[0;34m=\u001b[0m \u001b[0mint\u001b[0m\u001b[0;34m(\u001b[0m\u001b[0msys\u001b[0m\u001b[0;34m.\u001b[0m\u001b[0mstdin\u001b[0m\u001b[0;34m.\u001b[0m\u001b[0mreadline\u001b[0m\u001b[0;34m(\u001b[0m\u001b[0;34m)\u001b[0m\u001b[0;34m)\u001b[0m\u001b[0;34m\u001b[0m\u001b[0;34m\u001b[0m\u001b[0m\n\u001b[0m\u001b[1;32m      4\u001b[0m \u001b[0mvec\u001b[0m\u001b[0;34m=\u001b[0m\u001b[0;34m[\u001b[0m\u001b[0;34m]\u001b[0m\u001b[0;34m\u001b[0m\u001b[0;34m\u001b[0m\u001b[0m\n\u001b[1;32m      5\u001b[0m \u001b[0;32mfor\u001b[0m \u001b[0mi\u001b[0m \u001b[0;32min\u001b[0m \u001b[0mN\u001b[0m\u001b[0;34m:\u001b[0m\u001b[0;34m\u001b[0m\u001b[0;34m\u001b[0m\u001b[0m\n",
      "\u001b[0;31mValueError\u001b[0m: invalid literal for int() with base 10: ''"
     ]
    }
   ],
   "source": [
    "#6\n",
    "import sys\n",
    "N = int(sys.stdin.readline())\n",
    "vec=[]\n",
    "for i in N:\n",
    "    vec.append(list(map(int,sys.stdin.readline().split())))\n",
    "vec.sort(key=lambda x:(x[0],x[1]))\n",
    "for i in vec:\n",
    "    print(i[0],i[1])"
   ]
  },
  {
   "cell_type": "code",
   "execution_count": null,
   "id": "6db893b3",
   "metadata": {},
   "outputs": [],
   "source": [
    "#7\n",
    "\n",
    "import sys\n",
    "N = int(sys.stdin.readline())\n",
    "vec=[]\n",
    "for i in range(N):\n",
    "    vec.append(list(map(int,sys.stdin.readline().split())))\n",
    "# print(vec)\n",
    "vec.sort(key=lambda x:(x[1],x[0]))\n",
    "for i in vec:\n",
    "    print(i[0],i[1])"
   ]
  },
  {
   "cell_type": "code",
   "execution_count": null,
   "id": "53d7b5bf",
   "metadata": {},
   "outputs": [],
   "source": [
    "#8.\n",
    "import sys\n",
    "#sort()는 문자까지 정렬해줌\n",
    "N = int(sys.stdin.readline())\n",
    "list_a=[]\n",
    "\n",
    "for _ in range(N):\n",
    "    list_a.append(sys.stdin.readline().strip())\n",
    "set_a=set(list_a)\n",
    "list_a=list(set_a)\n",
    "list_a.sort()\n",
    "list_a.sort(key=len)\n",
    "for i in list_a:\n",
    "    print(i)\n"
   ]
  },
  {
   "cell_type": "code",
   "execution_count": null,
   "id": "281e9ada",
   "metadata": {},
   "outputs": [],
   "source": [
    "#9.\n",
    "#stable정렬이란 입력 받은 값들 중에 같은 값이 있는 경우 해당 값의 순서를 그대로 유지한다.\n",
    "#파이썬은 기본적으로 stable정렬을 한다.\n",
    "import sys\n",
    "N = int(sys.stdin.readline())\n",
    "list_a=[]\n",
    "for _ in range(N):\n",
    "    age,name = map(str,input().split())\n",
    "    age = int(age)\n",
    "    list_a.append((age,name))\n",
    "list_a.sort(key=lambda x : x[0])\n",
    "for i in list_a:\n",
    "    print(i[0],i[1])"
   ]
  },
  {
   "cell_type": "code",
   "execution_count": 10,
   "id": "0ac8aa0c",
   "metadata": {},
   "outputs": [
    {
     "name": "stdout",
     "output_type": "stream",
     "text": [
      "5\n",
      "2 4 -10 4 -9\n",
      "[-10, -9, 2, 4]\n",
      "{-10: 0, -9: 1, 2: 2, 4: 3}\n",
      "2 3 0 3 1 "
     ]
    }
   ],
   "source": [
    "#10.\n",
    "N = int(input())\n",
    "\n",
    "point = list(map(int,input().split()))\n",
    "\n",
    "point2 = sorted(list(set(point)))\n",
    "# print(point2)\n",
    "dic = {point2[i] : i for i in range(len(point2))}\n",
    "# print(dic)\n",
    "for i in point:\n",
    "    print(dic[i],end=' ')"
   ]
  }
 ],
 "metadata": {
  "kernelspec": {
   "display_name": "Python 3",
   "language": "python",
   "name": "python3"
  },
  "language_info": {
   "codemirror_mode": {
    "name": "ipython",
    "version": 3
   },
   "file_extension": ".py",
   "mimetype": "text/x-python",
   "name": "python",
   "nbconvert_exporter": "python",
   "pygments_lexer": "ipython3",
   "version": "3.8.8"
  }
 },
 "nbformat": 4,
 "nbformat_minor": 5
}
