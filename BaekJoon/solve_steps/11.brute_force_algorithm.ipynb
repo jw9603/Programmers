{
 "cells": [
  {
   "cell_type": "code",
   "execution_count": 5,
   "id": "506d7c8c",
   "metadata": {},
   "outputs": [
    {
     "name": "stdout",
     "output_type": "stream",
     "text": [
      "5 21\n",
      "5 6 7 8 9\n",
      "21\n"
     ]
    }
   ],
   "source": [
    "#1.\n",
    "N,M = map(int,input().split())\n",
    "arr = list(map(int,input().split()))\n",
    "result=0\n",
    "for i in range(N):\n",
    "    for j in range(i+1,N):\n",
    "        for k in range(j+1,N):\n",
    "            if arr[i]+arr[j]+arr[k]>M:\n",
    "                continue\n",
    "            else:\n",
    "                result = max(result,arr[i]+arr[j]+arr[k])\n",
    "print(result)"
   ]
  },
  {
   "cell_type": "code",
   "execution_count": 10,
   "id": "7fd926ba",
   "metadata": {},
   "outputs": [
    {
     "name": "stdout",
     "output_type": "stream",
     "text": [
      "216\n",
      "198\n"
     ]
    }
   ],
   "source": [
    "#2.\n",
    "N = int(input())\n",
    "result = 0\n",
    "\n",
    "for i in range(1,N+1):\n",
    "    a = list(map(int,str(i)))\n",
    "    result = i+sum(a)\n",
    "    if result==N:\n",
    "        print(i)\n",
    "        break\n",
    "    if i==N:\n",
    "        print(0)"
   ]
  },
  {
   "cell_type": "code",
   "execution_count": 14,
   "id": "a3b8759f",
   "metadata": {},
   "outputs": [
    {
     "name": "stdout",
     "output_type": "stream",
     "text": [
      "5\n",
      "55 185\n",
      "58 183\n",
      "88 186\n",
      "60 175\n",
      "46 155\n",
      "2 2 1 2 5 "
     ]
    }
   ],
   "source": [
    "#3.\n",
    "\n",
    "N = int(input())\n",
    "student_list=[]\n",
    "for _ in range(N):\n",
    "    x,y = map(int,input().split())#x=몸무게,y=키\n",
    "    student_list.append((x,y))\n",
    "\n",
    "for i in student_list:\n",
    "    rank=1\n",
    "    for j in student_list:\n",
    "        if i[0]<j[0] and i[1]<j[1]:\n",
    "            rank+=1\n",
    "    print(rank,end=' ')"
   ]
  },
  {
   "cell_type": "code",
   "execution_count": 15,
   "id": "7738f166",
   "metadata": {},
   "outputs": [
    {
     "name": "stdout",
     "output_type": "stream",
     "text": [
      "5\n",
      "55 185\n",
      "58 183\n",
      "88 186\n",
      "60 175\n",
      "46 155\n",
      "2 2 1 2 5 "
     ]
    }
   ],
   "source": [
    "\n",
    "#3.\n",
    "\n",
    "N = int(input())\n",
    "student_list=[]\n",
    "for _ in range(N):\n",
    "    x,y=map(int,input().split())\n",
    "    student_list.append((x,y))\n",
    "\n",
    "for i in student_list:\n",
    "    rank=1\n",
    "    for j in student_list:\n",
    "        if i[0]<j[0] and i[1]<j[1]:\n",
    "            rank+=1\n",
    "    print(rank,end=' ')"
   ]
  },
  {
   "cell_type": "code",
   "execution_count": null,
   "id": "0e44fc11",
   "metadata": {},
   "outputs": [],
   "source": [
    "#4\n",
    "N,M = map(int,input().split())\n",
    "\n",
    "original=[]\n",
    "count=[]\n",
    "\n",
    "for _ in range(N):\n",
    "    original.append(input())\n",
    "\n",
    "for a in range(N-7):\n",
    "    for b in range(M-7):\n",
    "        index1=0#시작점이 w인데 바꿔야 할 경우\n",
    "        index2=0#시작점이 B인데 바꿔야 할 경우\n",
    "        for i in range(a,a+8):\n",
    "            for j in range(b,b+8):\n",
    "                if (i+j)%2==0:\n",
    "                    if original[i][j]!='W':\n",
    "                        index1+=1\n",
    "                    if original[i][j]!='B':\n",
    "                        index2+=1\n",
    "                else:\n",
    "                    if original[i][j]!='B':\n",
    "                        index1+=1\n",
    "                    if original[i][j]!='W':\n",
    "                        index2+=1\n",
    "        count.append(min(index1,index2))\n",
    "print(min(count))\n",
    "                        "
   ]
  },
  {
   "cell_type": "code",
   "execution_count": 25,
   "id": "186a7b5e",
   "metadata": {},
   "outputs": [
    {
     "name": "stdout",
     "output_type": "stream",
     "text": [
      "5\n",
      "4666\n"
     ]
    }
   ],
   "source": [
    "#5. \n",
    "n = int(input())\n",
    "cnt=0\n",
    "six_n=666\n",
    "\n",
    "while True:\n",
    "    if '666' in str(six_n):\n",
    "        cnt+=1\n",
    "    if cnt==n:\n",
    "        print(six_n)\n",
    "        break\n",
    "    six_n+=1"
   ]
  }
 ],
 "metadata": {
  "kernelspec": {
   "display_name": "Python 3",
   "language": "python",
   "name": "python3"
  },
  "language_info": {
   "codemirror_mode": {
    "name": "ipython",
    "version": 3
   },
   "file_extension": ".py",
   "mimetype": "text/x-python",
   "name": "python",
   "nbconvert_exporter": "python",
   "pygments_lexer": "ipython3",
   "version": "3.8.8"
  }
 },
 "nbformat": 4,
 "nbformat_minor": 5
}
