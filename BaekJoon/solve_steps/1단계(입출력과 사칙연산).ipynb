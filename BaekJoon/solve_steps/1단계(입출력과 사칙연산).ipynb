{
 "cells": [
  {
   "cell_type": "code",
   "execution_count": 29,
   "id": "7cc1dc4a",
   "metadata": {},
   "outputs": [
    {
     "name": "stdout",
     "output_type": "stream",
     "text": [
      "\\    /\\\n",
      " )  ( ')\n",
      "(  /  )\n",
      " \\(__)|\n"
     ]
    }
   ],
   "source": [
    "#3\n",
    "print('\\\\    /\\\\')\n",
    "print(' )  ( \\')')\n",
    "print('(  /  )')\n",
    "print(' \\\\(__)|')"
   ]
  },
  {
   "cell_type": "code",
   "execution_count": 48,
   "id": "9a1fae0c",
   "metadata": {},
   "outputs": [
    {
     "name": "stdout",
     "output_type": "stream",
     "text": [
      "|\\_/|\n",
      "|q p|   /}\n",
      "( 0 )\"\"\"\\\n",
      "|\"^\"`    |\n",
      "||_/=\\\\__|\n"
     ]
    }
   ],
   "source": [
    "#4\n",
    "print('|\\\\_/|')\n",
    "print('|q p|   /}')\n",
    "print('( 0 )\"\"\"\\\\')\n",
    "print('|\"^\"`    |')\n",
    "print('||_/=\\\\\\\\__|')"
   ]
  },
  {
   "cell_type": "code",
   "execution_count": 49,
   "id": "96f6c157",
   "metadata": {},
   "outputs": [
    {
     "name": "stdout",
     "output_type": "stream",
     "text": [
      "1 2\n",
      "3\n"
     ]
    }
   ],
   "source": [
    "#5\n",
    "a,b = map(int,input().split())\n",
    "print(a+b)"
   ]
  },
  {
   "cell_type": "code",
   "execution_count": null,
   "id": "86f0c5c9",
   "metadata": {},
   "outputs": [],
   "source": [
    "#6\n",
    "a,b = map(int,input().split())\n",
    "print(a-b)"
   ]
  },
  {
   "cell_type": "code",
   "execution_count": 52,
   "id": "fc319232",
   "metadata": {},
   "outputs": [
    {
     "name": "stdout",
     "output_type": "stream",
     "text": [
      "3 4\n",
      "12\n"
     ]
    }
   ],
   "source": [
    "#7\n",
    "a,b = map(int,input().split())\n",
    "print('{0}'.format(a*b))"
   ]
  },
  {
   "cell_type": "code",
   "execution_count": 51,
   "id": "78c97301",
   "metadata": {},
   "outputs": [
    {
     "name": "stdout",
     "output_type": "stream",
     "text": [
      "4 5\n",
      "0.80\n"
     ]
    }
   ],
   "source": [
    "#8\n",
    "a,b = map(int,input().split())\n",
    "print('{:.9f}'.format(a/b)) #오차가 10^-9이므로 ,,,"
   ]
  },
  {
   "cell_type": "code",
   "execution_count": 60,
   "id": "8b8109d7",
   "metadata": {},
   "outputs": [
    {
     "name": "stdout",
     "output_type": "stream",
     "text": [
      "5 8 4\n",
      "1\n",
      "1\n",
      "0\n",
      "0\n"
     ]
    }
   ],
   "source": [
    "#9\n",
    "a,b,c = map(int,input().split())\n",
    "\n",
    "print((a+b)%c)\n",
    "print(int((a%c)+(b%c))%c)\n",
    "print((a*b)%c)\n",
    "print(int(((a%c)*(b%c))%c))"
   ]
  },
  {
   "cell_type": "code",
   "execution_count": 72,
   "id": "dccb3969",
   "metadata": {},
   "outputs": [
    {
     "name": "stdout",
     "output_type": "stream",
     "text": [
      "472\n",
      "385\n",
      "2360\n",
      "3776\n",
      "1416\n",
      "181720\n"
     ]
    }
   ],
   "source": [
    "#10\n",
    "first = int(input())\n",
    "second = input()\n",
    "\n",
    "a = first * int(second[2])\n",
    "b = first * int(second[1])\n",
    "c = first * int(second[0])\n",
    "d = first * int(second)\n",
    "print(a,b,c,d,sep='\\n')"
   ]
  }
 ],
 "metadata": {
  "kernelspec": {
   "display_name": "Python 3",
   "language": "python",
   "name": "python3"
  },
  "language_info": {
   "codemirror_mode": {
    "name": "ipython",
    "version": 3
   },
   "file_extension": ".py",
   "mimetype": "text/x-python",
   "name": "python",
   "nbconvert_exporter": "python",
   "pygments_lexer": "ipython3",
   "version": "3.8.8"
  }
 },
 "nbformat": 4,
 "nbformat_minor": 5
}
