{
 "cells": [
  {
   "cell_type": "code",
   "execution_count": null,
   "id": "bcb4dc90",
   "metadata": {},
   "outputs": [],
   "source": [
    "#1\n",
    "n = int(input())\n",
    "a = list(map(int,input().split()))\n",
    "a.sort()\n",
    "print(a[0],a[-1])"
   ]
  },
  {
   "cell_type": "code",
   "execution_count": 19,
   "id": "6a440ee8",
   "metadata": {},
   "outputs": [
    {
     "name": "stdout",
     "output_type": "stream",
     "text": [
      "3\n",
      "29\n",
      "38\n",
      "12\n",
      "57\n",
      "74\n",
      "40\n",
      "85\n",
      "61\n",
      "85\n",
      "8\n"
     ]
    }
   ],
   "source": [
    "## 2\n",
    "list_a=[]\n",
    "for _ in range(9):\n",
    "    list_a.append(int(input()))\n",
    "max_a = max(list_a)\n",
    "\n",
    "print(max_a)\n",
    "print(list_a.index(max_a)+1)\n",
    "\n",
    "    "
   ]
  },
  {
   "cell_type": "code",
   "execution_count": 28,
   "id": "e66dea30",
   "metadata": {},
   "outputs": [
    {
     "name": "stdout",
     "output_type": "stream",
     "text": [
      "150\n",
      "266\n",
      "427\n",
      "['1', '7', '0', '3', '7', '3', '0', '0']\n",
      "3\n",
      "1\n",
      "0\n",
      "2\n",
      "0\n",
      "0\n",
      "0\n",
      "2\n",
      "0\n",
      "0\n"
     ]
    }
   ],
   "source": [
    "#3\n",
    "a = int(input())\n",
    "b = int(input())\n",
    "c = int(input())\n",
    "d = list(str(a*b*c))\n",
    "for i in range(10):\n",
    "    print(d.count(str(i)))\n",
    "\n",
    "'''\n",
    "문자열 안에서 찾고 싶은 문자의 개수를 찾을 수 있다. \n",
    "어떤 함수는 문자열에서만 사용 가능한 함수도 있는데 \n",
    "count 함수는 튜플, 리스트, 집합과 같은 반복 가능한 iterable 자료형에서도 사용 가능하다. \n",
    "모든 자료형에서 사용 가능한 것은 아니어서 사용되지 않는 자료형은 dictionary, set이다.\n",
    "사용방법은 '변수. count(찾는 요소)' 형태로 사용한다.\n",
    "괄호( ) 안에 찾고자 하는 값을 입력하면 함수를 사용한 변수 안에서 해당 값의 개수를 숫자로 반환한다. \n",
    "'''"
   ]
  },
  {
   "cell_type": "code",
   "execution_count": 41,
   "id": "56dd7fb2",
   "metadata": {},
   "outputs": [
    {
     "name": "stdout",
     "output_type": "stream",
     "text": [
      "1\n",
      "2\n",
      "3\n",
      "4\n",
      "5\n",
      "6\n",
      "7\n",
      "8\n",
      "9\n",
      "10\n",
      "10\n"
     ]
    }
   ],
   "source": [
    "### 4\n",
    "list_a = []\n",
    "for _ in range(10):\n",
    "    list_a.append(int(input())%42)\n",
    "a = set(list_a)\n",
    "print(len(a)) #집합의 경우 길이를 구하면 중복을 제거한다."
   ]
  },
  {
   "cell_type": "code",
   "execution_count": 48,
   "id": "4f109739",
   "metadata": {},
   "outputs": [
    {
     "name": "stdout",
     "output_type": "stream",
     "text": [
      "9\n",
      "10 20 30 40 50 60 70 80 90\n",
      "55.55555555555556\n"
     ]
    }
   ],
   "source": [
    "#5\n",
    "n = int(input())\n",
    "list_a = list(map(int,input().split()))\n",
    "M = max(list_a)\n",
    "list_new=[]\n",
    "for i in list_a:\n",
    "    list_new.append((i/M)*100)\n",
    "avg = sum(list_new)/len(list_new)\n",
    "print(avg)    "
   ]
  },
  {
   "cell_type": "code",
   "execution_count": null,
   "id": "e481b734",
   "metadata": {},
   "outputs": [],
   "source": [
    "#6\n",
    "n = int(input())\n",
    "\n",
    "for i in range(n):\n",
    "    score = 0\n",
    "    list_a = list(input())\n",
    "    tmp=1\n",
    "    for ox in list_a:\n",
    "        if ox =='O':\n",
    "            score+=tmp\n",
    "            tmp+=1\n",
    "        else:\n",
    "            tmp=1\n",
    "    print(score)"
   ]
  },
  {
   "cell_type": "code",
   "execution_count": 53,
   "id": "5fe5f1d9",
   "metadata": {},
   "outputs": [
    {
     "name": "stdout",
     "output_type": "stream",
     "text": [
      "5\n",
      "5 50 50 70 80 100\n",
      "40.000%\n"
     ]
    },
    {
     "ename": "KeyboardInterrupt",
     "evalue": "Interrupted by user",
     "output_type": "error",
     "traceback": [
      "\u001b[0;31m---------------------------------------------------------------------------\u001b[0m",
      "\u001b[0;31mKeyboardInterrupt\u001b[0m                         Traceback (most recent call last)",
      "\u001b[0;32m<ipython-input-53-92819fca7ef1>\u001b[0m in \u001b[0;36m<module>\u001b[0;34m\u001b[0m\n\u001b[1;32m      3\u001b[0m \u001b[0;34m\u001b[0m\u001b[0m\n\u001b[1;32m      4\u001b[0m \u001b[0;32mfor\u001b[0m \u001b[0m_\u001b[0m \u001b[0;32min\u001b[0m \u001b[0mrange\u001b[0m\u001b[0;34m(\u001b[0m\u001b[0mcase\u001b[0m\u001b[0;34m)\u001b[0m\u001b[0;34m:\u001b[0m\u001b[0;34m\u001b[0m\u001b[0;34m\u001b[0m\u001b[0m\n\u001b[0;32m----> 5\u001b[0;31m     \u001b[0mnums\u001b[0m \u001b[0;34m=\u001b[0m \u001b[0mlist\u001b[0m\u001b[0;34m(\u001b[0m\u001b[0mmap\u001b[0m\u001b[0;34m(\u001b[0m\u001b[0mint\u001b[0m\u001b[0;34m,\u001b[0m\u001b[0minput\u001b[0m\u001b[0;34m(\u001b[0m\u001b[0;34m)\u001b[0m\u001b[0;34m.\u001b[0m\u001b[0msplit\u001b[0m\u001b[0;34m(\u001b[0m\u001b[0;34m)\u001b[0m\u001b[0;34m)\u001b[0m\u001b[0;34m)\u001b[0m\u001b[0;34m\u001b[0m\u001b[0;34m\u001b[0m\u001b[0m\n\u001b[0m\u001b[1;32m      6\u001b[0m     \u001b[0mavg\u001b[0m \u001b[0;34m=\u001b[0m \u001b[0msum\u001b[0m\u001b[0;34m(\u001b[0m\u001b[0mnums\u001b[0m\u001b[0;34m[\u001b[0m\u001b[0;36m1\u001b[0m\u001b[0;34m:\u001b[0m\u001b[0;34m]\u001b[0m\u001b[0;34m)\u001b[0m\u001b[0;34m/\u001b[0m\u001b[0mnums\u001b[0m\u001b[0;34m[\u001b[0m\u001b[0;36m0\u001b[0m\u001b[0;34m]\u001b[0m\u001b[0;34m\u001b[0m\u001b[0;34m\u001b[0m\u001b[0m\n\u001b[1;32m      7\u001b[0m     \u001b[0mcnt\u001b[0m \u001b[0;34m=\u001b[0m \u001b[0;36m0\u001b[0m\u001b[0;34m\u001b[0m\u001b[0;34m\u001b[0m\u001b[0m\n",
      "\u001b[0;32m~/opt/anaconda3/lib/python3.8/site-packages/ipykernel/kernelbase.py\u001b[0m in \u001b[0;36mraw_input\u001b[0;34m(self, prompt)\u001b[0m\n\u001b[1;32m    858\u001b[0m                 \u001b[0;34m\"raw_input was called, but this frontend does not support input requests.\"\u001b[0m\u001b[0;34m\u001b[0m\u001b[0;34m\u001b[0m\u001b[0m\n\u001b[1;32m    859\u001b[0m             )\n\u001b[0;32m--> 860\u001b[0;31m         return self._input_request(str(prompt),\n\u001b[0m\u001b[1;32m    861\u001b[0m             \u001b[0mself\u001b[0m\u001b[0;34m.\u001b[0m\u001b[0m_parent_ident\u001b[0m\u001b[0;34m,\u001b[0m\u001b[0;34m\u001b[0m\u001b[0;34m\u001b[0m\u001b[0m\n\u001b[1;32m    862\u001b[0m             \u001b[0mself\u001b[0m\u001b[0;34m.\u001b[0m\u001b[0m_parent_header\u001b[0m\u001b[0;34m,\u001b[0m\u001b[0;34m\u001b[0m\u001b[0;34m\u001b[0m\u001b[0m\n",
      "\u001b[0;32m~/opt/anaconda3/lib/python3.8/site-packages/ipykernel/kernelbase.py\u001b[0m in \u001b[0;36m_input_request\u001b[0;34m(self, prompt, ident, parent, password)\u001b[0m\n\u001b[1;32m    902\u001b[0m             \u001b[0;32mexcept\u001b[0m \u001b[0mKeyboardInterrupt\u001b[0m\u001b[0;34m:\u001b[0m\u001b[0;34m\u001b[0m\u001b[0;34m\u001b[0m\u001b[0m\n\u001b[1;32m    903\u001b[0m                 \u001b[0;31m# re-raise KeyboardInterrupt, to truncate traceback\u001b[0m\u001b[0;34m\u001b[0m\u001b[0;34m\u001b[0m\u001b[0;34m\u001b[0m\u001b[0m\n\u001b[0;32m--> 904\u001b[0;31m                 \u001b[0;32mraise\u001b[0m \u001b[0mKeyboardInterrupt\u001b[0m\u001b[0;34m(\u001b[0m\u001b[0;34m\"Interrupted by user\"\u001b[0m\u001b[0;34m)\u001b[0m \u001b[0;32mfrom\u001b[0m \u001b[0;32mNone\u001b[0m\u001b[0;34m\u001b[0m\u001b[0;34m\u001b[0m\u001b[0m\n\u001b[0m\u001b[1;32m    905\u001b[0m             \u001b[0;32mexcept\u001b[0m \u001b[0mException\u001b[0m \u001b[0;32mas\u001b[0m \u001b[0me\u001b[0m\u001b[0;34m:\u001b[0m\u001b[0;34m\u001b[0m\u001b[0;34m\u001b[0m\u001b[0m\n\u001b[1;32m    906\u001b[0m                 \u001b[0mself\u001b[0m\u001b[0;34m.\u001b[0m\u001b[0mlog\u001b[0m\u001b[0;34m.\u001b[0m\u001b[0mwarning\u001b[0m\u001b[0;34m(\u001b[0m\u001b[0;34m\"Invalid Message:\"\u001b[0m\u001b[0;34m,\u001b[0m \u001b[0mexc_info\u001b[0m\u001b[0;34m=\u001b[0m\u001b[0;32mTrue\u001b[0m\u001b[0;34m)\u001b[0m\u001b[0;34m\u001b[0m\u001b[0;34m\u001b[0m\u001b[0m\n",
      "\u001b[0;31mKeyboardInterrupt\u001b[0m: Interrupted by user"
     ]
    }
   ],
   "source": [
    "#7\n",
    "case = int(input())\n",
    "\n",
    "for _ in range(case):\n",
    "    nums = list(map(int,input().split()))\n",
    "    avg = sum(nums[1:])/nums[0]\n",
    "    cnt = 0\n",
    "    for score in nums[1:]:\n",
    "        if score > avg:\n",
    "            cnt+=1\n",
    "    rate = cnt/nums[0]\n",
    "    print('{:.3f}%'.format(rate*100))"
   ]
  },
  {
   "cell_type": "code",
   "execution_count": null,
   "id": "a585835a",
   "metadata": {},
   "outputs": [],
   "source": [
    "case = int(input())\n",
    "for _ in range(case):\n",
    "    nums = list(map(int,input().split()))\n",
    "    avg = sum(nums[1:])/nums[0]\n",
    "    cnt = 0\n",
    "    for i in nums[1:]:\n",
    "        if i>avg:\n",
    "            cnt+=1\n",
    "    rate = (cnt/nums[0]) *100\n",
    "    print('{:.3f}'.format(rate))"
   ]
  }
 ],
 "metadata": {
  "kernelspec": {
   "display_name": "Python 3",
   "language": "python",
   "name": "python3"
  },
  "language_info": {
   "codemirror_mode": {
    "name": "ipython",
    "version": 3
   },
   "file_extension": ".py",
   "mimetype": "text/x-python",
   "name": "python",
   "nbconvert_exporter": "python",
   "pygments_lexer": "ipython3",
   "version": "3.8.8"
  }
 },
 "nbformat": 4,
 "nbformat_minor": 5
}
