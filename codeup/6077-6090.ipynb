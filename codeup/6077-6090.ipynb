{
 "cells": [
  {
   "cell_type": "code",
   "execution_count": 2,
   "id": "b3300233",
   "metadata": {},
   "outputs": [
    {
     "name": "stdout",
     "output_type": "stream",
     "text": [
      "12\n",
      "42\n"
     ]
    }
   ],
   "source": [
    "# 6077\n",
    "\n",
    "print(sum([i for i in range(1,int(input())+1) if i%2 == 0]))"
   ]
  },
  {
   "cell_type": "code",
   "execution_count": 5,
   "id": "c4b34e26",
   "metadata": {},
   "outputs": [
    {
     "name": "stdout",
     "output_type": "stream",
     "text": [
      "x\n",
      "x\n",
      "b\n",
      "b\n",
      "k\n",
      "k\n",
      "d\n",
      "d\n",
      "l\n",
      "l\n",
      "q\n",
      "q\n"
     ]
    }
   ],
   "source": [
    "# 6078\n",
    "while True:\n",
    "    a = input()\n",
    "    if a!= 'q':\n",
    "        print(a)\n",
    "        continue\n",
    "    print('q')\n",
    "    break"
   ]
  },
  {
   "cell_type": "code",
   "execution_count": 9,
   "id": "fe532ab4",
   "metadata": {},
   "outputs": [
    {
     "name": "stdout",
     "output_type": "stream",
     "text": [
      "55\n",
      "10\n"
     ]
    }
   ],
   "source": [
    "# 6079\n",
    "sum=0\n",
    "i=0\n",
    "n = int(input())\n",
    "while True:\n",
    "    i+=1\n",
    "    sum+=i\n",
    "    if sum>=n:\n",
    "        print(i)\n",
    "        break\n",
    "\n",
    "    "
   ]
  },
  {
   "cell_type": "code",
   "execution_count": 13,
   "id": "7f7b7740",
   "metadata": {},
   "outputs": [
    {
     "name": "stdout",
     "output_type": "stream",
     "text": [
      "2 3\n",
      "1 1\n",
      "1 2\n",
      "1 3\n",
      "2 1\n",
      "2 2\n",
      "2 3\n"
     ]
    }
   ],
   "source": [
    "# 6080\n",
    "n, m = map(int, input().split())\n",
    "print('\\n'.join([f\"{i} {j}\" for i in range(1, n + 1) for j in range(1, m + 1)]))\n"
   ]
  },
  {
   "cell_type": "code",
   "execution_count": 12,
   "id": "5f7c6bf6",
   "metadata": {},
   "outputs": [
    {
     "name": "stdout",
     "output_type": "stream",
     "text": [
      "B\n",
      "B*1=B\n",
      "B*2=16\n",
      "B*3=21\n",
      "B*4=2C\n",
      "B*5=37\n",
      "B*6=42\n",
      "B*7=4D\n",
      "B*8=58\n",
      "B*9=63\n",
      "B*A=6E\n",
      "B*B=79\n",
      "B*C=84\n",
      "B*D=8F\n",
      "B*E=9A\n",
      "B*F=A5\n"
     ]
    }
   ],
   "source": [
    "# 6081\n",
    "a =int(input(),16)\n",
    "for i in range(1,16):\n",
    "    print(f'{a:X}*{i:X}={a*i:X}')"
   ]
  },
  {
   "cell_type": "code",
   "execution_count": 24,
   "id": "e92e64bd",
   "metadata": {},
   "outputs": [
    {
     "name": "stdout",
     "output_type": "stream",
     "text": [
      "29\n",
      "1 2 X 4 5 X 7 8 X 10 11 12 X 14 15 X 17 18 X 20 21 22 X 24 25 X 27 28 X\n"
     ]
    }
   ],
   "source": [
    "# 6082\n",
    "print(' '.join(map(str,['X' if i%10 == 3 or i%10 == 6 or i%10 == 9 else i for i in range(1,int(input())+1)])))"
   ]
  },
  {
   "cell_type": "code",
   "execution_count": 38,
   "id": "eac7068e",
   "metadata": {},
   "outputs": [
    {
     "name": "stdout",
     "output_type": "stream",
     "text": [
      "2 2 2\n",
      "0 0 0\n",
      "0 0 1\n",
      "0 1 0\n",
      "0 1 1\n",
      "1 0 0\n",
      "1 0 1\n",
      "1 1 0\n",
      "1 1 1\n",
      "8\n"
     ]
    }
   ],
   "source": [
    "# 6083\n",
    "r, g, b = map(int, input().split())\n",
    "\n",
    "combinations = [[i, j, k] for i in range(r) for j in range(g) for k in range(b)]\n",
    "\n",
    "for combination in combinations:\n",
    "    print(combination[0], combination[1], combination[2])\n",
    "print(len(combinations))\n",
    "\n"
   ]
  },
  {
   "cell_type": "code",
   "execution_count": 41,
   "id": "488f98b7",
   "metadata": {},
   "outputs": [
    {
     "name": "stdout",
     "output_type": "stream",
     "text": [
      "44100 16 2 10\n",
      "1.7 MB\n"
     ]
    }
   ],
   "source": [
    "# 6084\n",
    "h, b, c, s = map(int,input().split())\n",
    "print(f'{h*b*c*s/8/1024/1024:.1f} MB')"
   ]
  },
  {
   "cell_type": "code",
   "execution_count": 42,
   "id": "bd388646",
   "metadata": {},
   "outputs": [
    {
     "name": "stdout",
     "output_type": "stream",
     "text": [
      "1024 768 24\n",
      "2.25 MB\n"
     ]
    }
   ],
   "source": [
    "# 6085\n",
    "w, h, b = map(int,input().split())\n",
    "print(f'{w*h*b/8/1024/1024:.2f} MB')"
   ]
  },
  {
   "cell_type": "code",
   "execution_count": 49,
   "id": "b24a44d5",
   "metadata": {},
   "outputs": [
    {
     "name": "stdout",
     "output_type": "stream",
     "text": [
      "57\n",
      "66\n"
     ]
    }
   ],
   "source": [
    "# 6086\n",
    "a = int(input())\n",
    "c=1\n",
    "total = 0\n",
    "while True:\n",
    "    total += c\n",
    "    c += 1\n",
    "    if total >= a:\n",
    "        print(total)\n",
    "        break "
   ]
  },
  {
   "cell_type": "code",
   "execution_count": 54,
   "id": "066dead1",
   "metadata": {},
   "outputs": [
    {
     "name": "stdout",
     "output_type": "stream",
     "text": [
      "10\n",
      "1 2 4 5 7 8 10\n"
     ]
    }
   ],
   "source": [
    "# 6087\n",
    "print(' '.join(map(str,[i for i in range(1,int(input())+1) if i%3 != 0 ])))"
   ]
  },
  {
   "cell_type": "code",
   "execution_count": 56,
   "id": "6cecc086",
   "metadata": {},
   "outputs": [
    {
     "name": "stdout",
     "output_type": "stream",
     "text": [
      "1 3 5\n",
      "13\n"
     ]
    }
   ],
   "source": [
    "# 6088\n",
    "a, d, n = map(int,input().split())\n",
    "print(a + (n-1)*d)\n",
    "    "
   ]
  },
  {
   "cell_type": "code",
   "execution_count": 59,
   "id": "3424ed86",
   "metadata": {},
   "outputs": [
    {
     "name": "stdout",
     "output_type": "stream",
     "text": [
      "2 3 7\n",
      "1458\n"
     ]
    }
   ],
   "source": [
    "# 6089\n",
    "a, r, n = map(int,input().split())\n",
    "print(a * r**(n-1))"
   ]
  },
  {
   "cell_type": "code",
   "execution_count": 62,
   "id": "85185f9a",
   "metadata": {},
   "outputs": [
    {
     "name": "stdout",
     "output_type": "stream",
     "text": [
      "1 -2 1 8\n",
      "-85\n"
     ]
    }
   ],
   "source": [
    "# 6090\n",
    "a, m, d, n = map(int,input().split())\n",
    "\n",
    "for i in range(1, n):\n",
    "    a = a*m+d\n",
    "print(a)"
   ]
  },
  {
   "cell_type": "code",
   "execution_count": null,
   "id": "14eaaace",
   "metadata": {},
   "outputs": [],
   "source": []
  }
 ],
 "metadata": {
  "kernelspec": {
   "display_name": "Python 3 (ipykernel)",
   "language": "python",
   "name": "python3"
  },
  "language_info": {
   "codemirror_mode": {
    "name": "ipython",
    "version": 3
   },
   "file_extension": ".py",
   "mimetype": "text/x-python",
   "name": "python",
   "nbconvert_exporter": "python",
   "pygments_lexer": "ipython3",
   "version": "3.9.12"
  }
 },
 "nbformat": 4,
 "nbformat_minor": 5
}
