{
 "cells": [
  {
   "cell_type": "code",
   "execution_count": 7,
   "id": "89b32141",
   "metadata": {},
   "outputs": [
    {
     "name": "stdout",
     "output_type": "stream",
     "text": [
      "1024\n",
      "2048\n"
     ]
    }
   ],
   "source": [
    "# 6046\n",
    "\n",
    "a = int(input())\n",
    "print(a<<1) # 2배"
   ]
  },
  {
   "cell_type": "code",
   "execution_count": 8,
   "id": "2d6aa5e2",
   "metadata": {},
   "outputs": [
    {
     "name": "stdout",
     "output_type": "stream",
     "text": [
      "1 3\n",
      "8\n"
     ]
    }
   ],
   "source": [
    "# 6047\n",
    "\n",
    "a,b = map(int,input().split())\n",
    "print(a<<b) # a를 2^b배"
   ]
  },
  {
   "cell_type": "code",
   "execution_count": 9,
   "id": "7928d432",
   "metadata": {},
   "outputs": [
    {
     "name": "stdout",
     "output_type": "stream",
     "text": [
      "1 9\n",
      "True\n"
     ]
    }
   ],
   "source": [
    "# 6048\n",
    "a,b = map(int,input().split())\n",
    "print(a<b)"
   ]
  },
  {
   "cell_type": "code",
   "execution_count": 10,
   "id": "1c40cccd",
   "metadata": {},
   "outputs": [
    {
     "name": "stdout",
     "output_type": "stream",
     "text": [
      "1 3\n",
      "False\n"
     ]
    }
   ],
   "source": [
    "# 6049\n",
    "a,b = map(int,input().split())\n",
    "print(a==b)"
   ]
  },
  {
   "cell_type": "code",
   "execution_count": 14,
   "id": "7f9d9d01",
   "metadata": {},
   "outputs": [
    {
     "name": "stdout",
     "output_type": "stream",
     "text": [
      "0 -1\n",
      "False\n"
     ]
    }
   ],
   "source": [
    "# 6050\n",
    "a,b = map(int,input().split())\n",
    "print(b>=a)"
   ]
  },
  {
   "cell_type": "code",
   "execution_count": 15,
   "id": "da490003",
   "metadata": {},
   "outputs": [
    {
     "name": "stdout",
     "output_type": "stream",
     "text": [
      "0 1\n",
      "True\n"
     ]
    }
   ],
   "source": [
    "# 6051\n",
    "a,b = map(int,input().split())\n",
    "print(a!=b)"
   ]
  },
  {
   "cell_type": "code",
   "execution_count": 16,
   "id": "1f65f694",
   "metadata": {},
   "outputs": [
    {
     "name": "stdout",
     "output_type": "stream",
     "text": [
      "0\n",
      "False\n"
     ]
    }
   ],
   "source": [
    "# 6052\n",
    "a = int(input())\n",
    "print(bool(a))"
   ]
  },
  {
   "cell_type": "code",
   "execution_count": 17,
   "id": "f613a9a5",
   "metadata": {},
   "outputs": [
    {
     "name": "stdout",
     "output_type": "stream",
     "text": [
      "0\n",
      "True\n"
     ]
    }
   ],
   "source": [
    "# 6053\n",
    "a = int(input())\n",
    "print(not(bool(a)))"
   ]
  },
  {
   "cell_type": "code",
   "execution_count": 19,
   "id": "f6eb44de",
   "metadata": {},
   "outputs": [
    {
     "name": "stdout",
     "output_type": "stream",
     "text": [
      "1 2\n",
      "False\n"
     ]
    }
   ],
   "source": [
    "# 6054\n",
    "a,b = map(int,input().split())\n",
    "print(bool(a&b))"
   ]
  },
  {
   "cell_type": "code",
   "execution_count": 20,
   "id": "b2812db5",
   "metadata": {},
   "outputs": [
    {
     "name": "stdout",
     "output_type": "stream",
     "text": [
      "1 2\n",
      "True\n"
     ]
    }
   ],
   "source": [
    "# 6055\n",
    "a,b = map(int,input().split())\n",
    "print(bool(a|b))"
   ]
  },
  {
   "cell_type": "code",
   "execution_count": 21,
   "id": "93dab4e5",
   "metadata": {},
   "outputs": [
    {
     "name": "stdout",
     "output_type": "stream",
     "text": [
      "1 1\n",
      "False\n"
     ]
    }
   ],
   "source": [
    "# 6056\n",
    "a,b = map(int,input().split())\n",
    "print(True if a!=b else False)"
   ]
  },
  {
   "cell_type": "code",
   "execution_count": 22,
   "id": "0bd60b86",
   "metadata": {},
   "outputs": [
    {
     "name": "stdout",
     "output_type": "stream",
     "text": [
      "0 0\n",
      "True\n"
     ]
    }
   ],
   "source": [
    "# 6057\n",
    "a,b = map(int,input().split())\n",
    "print(True if a==b else False)"
   ]
  },
  {
   "cell_type": "code",
   "execution_count": 24,
   "id": "d58a293f",
   "metadata": {},
   "outputs": [
    {
     "name": "stdout",
     "output_type": "stream",
     "text": [
      "0 0\n",
      "True\n"
     ]
    }
   ],
   "source": [
    "# 6058\n",
    "a,b = map(int,input().split())\n",
    "print(True if a==0 and b == 0 else False)"
   ]
  },
  {
   "cell_type": "code",
   "execution_count": 26,
   "id": "2822de3c",
   "metadata": {},
   "outputs": [
    {
     "name": "stdout",
     "output_type": "stream",
     "text": [
      "2\n",
      "-3\n"
     ]
    }
   ],
   "source": [
    "# 6059\n",
    "a = int(input())\n",
    "print(~a)"
   ]
  },
  {
   "cell_type": "code",
   "execution_count": 30,
   "id": "a436d4ff",
   "metadata": {},
   "outputs": [
    {
     "name": "stdout",
     "output_type": "stream",
     "text": [
      "3 5\n",
      "1\n"
     ]
    }
   ],
   "source": [
    "# 6060\n",
    "a,b = map(int,input().split())\n",
    "print(a&b)"
   ]
  },
  {
   "cell_type": "code",
   "execution_count": 31,
   "id": "9582c9f7",
   "metadata": {},
   "outputs": [
    {
     "name": "stdout",
     "output_type": "stream",
     "text": [
      "3 5\n",
      "7\n"
     ]
    }
   ],
   "source": [
    "# 6061\n",
    "a,b = map(int,input().split())\n",
    "print(a|b)"
   ]
  },
  {
   "cell_type": "code",
   "execution_count": 33,
   "id": "86b0bd6d",
   "metadata": {},
   "outputs": [
    {
     "name": "stdout",
     "output_type": "stream",
     "text": [
      "3 5\n",
      "6\n"
     ]
    }
   ],
   "source": [
    "# 6062\n",
    "a,b = map(int,input().split())\n",
    "print(a^b) # XOR"
   ]
  },
  {
   "cell_type": "code",
   "execution_count": 35,
   "id": "f4201684",
   "metadata": {},
   "outputs": [
    {
     "name": "stdout",
     "output_type": "stream",
     "text": [
      "123 123\n",
      "123\n"
     ]
    }
   ],
   "source": [
    "# 6063\n",
    "a,b = map(int,input().split())\n",
    "print(a if a > b else b)"
   ]
  },
  {
   "cell_type": "code",
   "execution_count": 36,
   "id": "d960ad9e",
   "metadata": {},
   "outputs": [
    {
     "name": "stdout",
     "output_type": "stream",
     "text": [
      "3 -1 5\n",
      "-1\n"
     ]
    }
   ],
   "source": [
    "# 6064\n",
    "a = list(map(int,input().split()))\n",
    "\n",
    "print(sorted(a)[0])\n"
   ]
  },
  {
   "cell_type": "code",
   "execution_count": null,
   "id": "c707000d",
   "metadata": {},
   "outputs": [],
   "source": []
  }
 ],
 "metadata": {
  "kernelspec": {
   "display_name": "Python 3 (ipykernel)",
   "language": "python",
   "name": "python3"
  },
  "language_info": {
   "codemirror_mode": {
    "name": "ipython",
    "version": 3
   },
   "file_extension": ".py",
   "mimetype": "text/x-python",
   "name": "python",
   "nbconvert_exporter": "python",
   "pygments_lexer": "ipython3",
   "version": "3.9.12"
  }
 },
 "nbformat": 4,
 "nbformat_minor": 5
}
