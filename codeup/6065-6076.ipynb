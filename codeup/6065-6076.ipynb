{
 "cells": [
  {
   "cell_type": "code",
   "execution_count": 1,
   "id": "2736c0db",
   "metadata": {},
   "outputs": [
    {
     "name": "stdout",
     "output_type": "stream",
     "text": [
      "1 2 4\n",
      "2\n",
      "4\n"
     ]
    }
   ],
   "source": [
    "# 6065\n",
    "a = list(map(int,input().split()))\n",
    "print('\\n'.join(map(str,[i for i in a if i % 2 ==0])))"
   ]
  },
  {
   "cell_type": "code",
   "execution_count": 5,
   "id": "0d267480",
   "metadata": {},
   "outputs": [
    {
     "name": "stdout",
     "output_type": "stream",
     "text": [
      "1 2 8\n",
      "odd\n",
      "even\n",
      "even\n"
     ]
    }
   ],
   "source": [
    "# 6066\n",
    "a = list(map(int,input().split()))\n",
    "print('\\n'.join(map(str,['even' if i % 2 ==0 else 'odd' for i in a ])))"
   ]
  },
  {
   "cell_type": "code",
   "execution_count": 6,
   "id": "e22246cd",
   "metadata": {},
   "outputs": [
    {
     "name": "stdout",
     "output_type": "stream",
     "text": [
      "-2147483648\n",
      "A\n"
     ]
    }
   ],
   "source": [
    "# 6067\n",
    "a = int(input())\n",
    "\n",
    "if a < 0:\n",
    "    if a % 2 == 0:\n",
    "        print('A')\n",
    "    else:\n",
    "        print('B')\n",
    "else:\n",
    "    if a % 2 == 0:\n",
    "        print('C')\n",
    "    else:\n",
    "        print('D')"
   ]
  },
  {
   "cell_type": "code",
   "execution_count": 7,
   "id": "18642a7c",
   "metadata": {},
   "outputs": [
    {
     "name": "stdout",
     "output_type": "stream",
     "text": [
      "73\n",
      "B\n"
     ]
    }
   ],
   "source": [
    "# 6068\n",
    "a = int(input())\n",
    "\n",
    "if a >= 90:\n",
    "    print('A')\n",
    "elif a >= 70:\n",
    "    print('B')\n",
    "elif a >= 40:\n",
    "    print('C')\n",
    "else:\n",
    "    print('D')"
   ]
  },
  {
   "cell_type": "code",
   "execution_count": 8,
   "id": "571477f8",
   "metadata": {},
   "outputs": [
    {
     "name": "stdout",
     "output_type": "stream",
     "text": [
      "A\n",
      "best!!\n"
     ]
    }
   ],
   "source": [
    "# 6069\n",
    "\n",
    "a = input()\n",
    "\n",
    "if a == 'A':\n",
    "    print('best!!!')\n",
    "elif a == 'B':\n",
    "    print('good!!')\n",
    "elif a == 'C':\n",
    "    print('run!')\n",
    "elif a == 'D':\n",
    "    print('slowly~')\n",
    "else:\n",
    "    print('what?')"
   ]
  },
  {
   "cell_type": "code",
   "execution_count": 10,
   "id": "9dcfef4e",
   "metadata": {},
   "outputs": [
    {
     "name": "stdout",
     "output_type": "stream",
     "text": [
      "12\n",
      "winter\n"
     ]
    }
   ],
   "source": [
    "# 6070\n",
    "\n",
    "a = int(input())\n",
    "\n",
    "if a //3 == 1:\n",
    "    print('spring')\n",
    "elif a // 3 == 2:\n",
    "    print('summer')\n",
    "elif a // 3 == 3:\n",
    "    print('fall')\n",
    "else:\n",
    "    print('winter')"
   ]
  },
  {
   "cell_type": "code",
   "execution_count": 11,
   "id": "0e5daa28",
   "metadata": {},
   "outputs": [
    {
     "name": "stdout",
     "output_type": "stream",
     "text": [
      "3\n",
      "3\n",
      "2\n",
      "2\n",
      "1\n",
      "1\n",
      "4\n",
      "4\n",
      "57\n",
      "57\n",
      "0\n"
     ]
    }
   ],
   "source": [
    "# 6071\n",
    "\n",
    "while True:\n",
    "    data = int(input())\n",
    "    if data!=0:\n",
    "        print(data)\n",
    "        continue\n",
    "    break"
   ]
  },
  {
   "cell_type": "code",
   "execution_count": 16,
   "id": "17093eb7",
   "metadata": {},
   "outputs": [
    {
     "name": "stdout",
     "output_type": "stream",
     "text": [
      "5\n",
      "5\n",
      "4\n",
      "3\n",
      "2\n",
      "1\n"
     ]
    }
   ],
   "source": [
    "# 6072    \n",
    "res = [str(i) for i in range(int(input()),0,-1)]\n",
    "print('\\n'.join(res))"
   ]
  },
  {
   "cell_type": "code",
   "execution_count": 18,
   "id": "2ef9d95d",
   "metadata": {},
   "outputs": [
    {
     "name": "stdout",
     "output_type": "stream",
     "text": [
      "4\n",
      "3\n",
      "2\n",
      "1\n",
      "0\n"
     ]
    }
   ],
   "source": [
    "# 6073\n",
    "res = [str(i) for i in range(int(input())-1,-1,-1)]\n",
    "print('\\n'.join(res))"
   ]
  },
  {
   "cell_type": "code",
   "execution_count": 25,
   "id": "1c2e1041",
   "metadata": {},
   "outputs": [
    {
     "name": "stdout",
     "output_type": "stream",
     "text": [
      "f\n",
      "a b c d e f\n"
     ]
    }
   ],
   "source": [
    "# 6074\n",
    "print(' '.join([chr(i) for i in range(ord('a'),ord(input())+1)]))"
   ]
  },
  {
   "cell_type": "code",
   "execution_count": 26,
   "id": "e7fcd68d",
   "metadata": {},
   "outputs": [
    {
     "name": "stdout",
     "output_type": "stream",
     "text": [
      "4\n",
      "0\n",
      "1\n",
      "2\n",
      "3\n",
      "4\n"
     ]
    }
   ],
   "source": [
    "# 6075\n",
    "res = [str(i) for i in range(0,int(input())+1)]\n",
    "print('\\n'.join(res))"
   ]
  },
  {
   "cell_type": "code",
   "execution_count": null,
   "id": "0fbc814a",
   "metadata": {},
   "outputs": [],
   "source": [
    "# 6076\n",
    "res = [str(i) for i in range(0,int(input())+1)]\n",
    "print('\\n'.join(res))"
   ]
  }
 ],
 "metadata": {
  "kernelspec": {
   "display_name": "Python 3 (ipykernel)",
   "language": "python",
   "name": "python3"
  },
  "language_info": {
   "codemirror_mode": {
    "name": "ipython",
    "version": 3
   },
   "file_extension": ".py",
   "mimetype": "text/x-python",
   "name": "python",
   "nbconvert_exporter": "python",
   "pygments_lexer": "ipython3",
   "version": "3.9.12"
  }
 },
 "nbformat": 4,
 "nbformat_minor": 5
}
